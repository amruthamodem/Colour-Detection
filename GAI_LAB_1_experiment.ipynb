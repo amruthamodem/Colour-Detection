{
  "nbformat": 4,
  "nbformat_minor": 0,
  "metadata": {
    "colab": {
      "provenance": [],
      "include_colab_link": true
    },
    "kernelspec": {
      "name": "python3",
      "display_name": "Python 3"
    },
    "language_info": {
      "name": "python"
    }
  },
  "cells": [
    {
      "cell_type": "markdown",
      "metadata": {
        "id": "view-in-github",
        "colab_type": "text"
      },
      "source": [
        "<a href=\"https://colab.research.google.com/github/amruthamodem/Colour-Detection/blob/main/GAI_LAB_1_experiment.ipynb\" target=\"_parent\"><img src=\"https://colab.research.google.com/assets/colab-badge.svg\" alt=\"Open In Colab\"/></a>"
      ]
    },
    {
      "cell_type": "code",
      "execution_count": null,
      "metadata": {
        "colab": {
          "base_uri": "https://localhost:8080/"
        },
        "id": "ksP06pzL8N4M",
        "outputId": "a57dd4dc-73c7-42f4-d1e8-2787747d5309"
      },
      "outputs": [
        {
          "output_type": "stream",
          "name": "stdout",
          "text": [
            "7\n",
            "2.6457513110645907\n"
          ]
        }
      ],
      "source": [
        "import math\n",
        "n=int(input())\n",
        "print(math.sqrt(n))"
      ]
    },
    {
      "cell_type": "code",
      "source": [
        "a=int(input())\n",
        "b=int(input())\n",
        "temp=a\n",
        "a=b\n",
        "b=temp\n",
        "print(\"a =\", a)\n",
        "print(\"b =\", b)"
      ],
      "metadata": {
        "colab": {
          "base_uri": "https://localhost:8080/"
        },
        "id": "AorGV8Jj9ACY",
        "outputId": "d9fe07a3-b720-4f20-d326-2f7f8b9efed7"
      },
      "execution_count": null,
      "outputs": [
        {
          "output_type": "stream",
          "name": "stdout",
          "text": [
            "5\n",
            "6\n",
            "a = 6\n",
            "b = 5\n"
          ]
        }
      ]
    },
    {
      "cell_type": "code",
      "source": [
        "n=int(input())\n",
        "if n>0:\n",
        "  print(\"positive\")\n",
        "if n<0:\n",
        "  print(\"negative\")\n",
        "if n==0:\n",
        "  print(\"zero\")"
      ],
      "metadata": {
        "colab": {
          "base_uri": "https://localhost:8080/"
        },
        "id": "odklPVdN975G",
        "outputId": "d0582873-0d50-4864-9063-c10cae1d65ee"
      },
      "execution_count": null,
      "outputs": [
        {
          "output_type": "stream",
          "name": "stdout",
          "text": [
            "6\n",
            "positive\n"
          ]
        }
      ]
    },
    {
      "cell_type": "code",
      "source": [
        "n=int(input())\n",
        "if n%2==0:\n",
        "  print(\"even\")\n",
        "else:\n",
        "  print(\"odd\")"
      ],
      "metadata": {
        "colab": {
          "base_uri": "https://localhost:8080/"
        },
        "id": "ilQVxu-A-X8G",
        "outputId": "7b3ed935-7eb7-4ec0-9eac-dcdace69adcb"
      },
      "execution_count": null,
      "outputs": [
        {
          "output_type": "stream",
          "name": "stdout",
          "text": [
            "9\n",
            "odd\n"
          ]
        }
      ]
    },
    {
      "cell_type": "code",
      "source": [
        "n=int(input())\n",
        "f=1\n",
        "for i in range(1,n+1):\n",
        "  f=f*i\n",
        "  print(f)"
      ],
      "metadata": {
        "colab": {
          "base_uri": "https://localhost:8080/"
        },
        "id": "6J1GAyhO-oYU",
        "outputId": "834db26c-2026-445d-e80a-8b77b1a5da16"
      },
      "execution_count": null,
      "outputs": [
        {
          "output_type": "stream",
          "name": "stdout",
          "text": [
            "5\n",
            "1\n",
            "2\n",
            "6\n",
            "24\n",
            "120\n"
          ]
        }
      ]
    },
    {
      "cell_type": "code",
      "source": [
        "import pandas as pd\n",
        "data={'name': ['ashfak','akash','abhishek'],\n",
        "      'age' : [20,23,22],\n",
        "      'city': ['mangalore','bangalore','udupi']}\n",
        "df=pd.DataFrame(data)\n",
        "print(df)"
      ],
      "metadata": {
        "colab": {
          "base_uri": "https://localhost:8080/"
        },
        "id": "oKcl0rtuBwM4",
        "outputId": "3de1ad00-e1a7-4651-f736-ffc1d55f444e"
      },
      "execution_count": null,
      "outputs": [
        {
          "output_type": "stream",
          "name": "stdout",
          "text": [
            "       name  age       city\n",
            "0    ashfak   20  mangalore\n",
            "1     akash   23  bangalore\n",
            "2  abhishek   22      udupi\n"
          ]
        }
      ]
    }
  ]
}