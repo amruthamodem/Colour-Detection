{
  "nbformat": 4,
  "nbformat_minor": 0,
  "metadata": {
    "colab": {
      "provenance": [],
      "include_colab_link": true
    },
    "kernelspec": {
      "name": "python3",
      "display_name": "Python 3"
    },
    "language_info": {
      "name": "python"
    }
  },
  "cells": [
    {
      "cell_type": "markdown",
      "metadata": {
        "id": "view-in-github",
        "colab_type": "text"
      },
      "source": [
        "<a href=\"https://colab.research.google.com/github/amruthamodem/Colour-Detection/blob/main/sentimental_analysis.ipynb\" target=\"_parent\"><img src=\"https://colab.research.google.com/assets/colab-badge.svg\" alt=\"Open In Colab\"/></a>"
      ]
    },
    {
      "cell_type": "code",
      "execution_count": null,
      "metadata": {
        "id": "O2FQlMTND65d"
      },
      "outputs": [],
      "source": [
        "from transformers import pipeline\n",
        "sentiment_analyzer = pipeline(\"sentiment-analysis\")\n",
        "text=\"I am feeling happy\"\n",
        "sentiment_result = sentiment_analyzer(text)\n",
        "print(\"Sentimental Analysis:\")\n",
        "print(f\"INput:(text)\")\n",
        "print(f\"Sentiment:{sentiment_result[0]['label']}(score: {sentiment_result[0]['score']:2f})\\n\")"
      ]
    },
    {
      "cell_type": "code",
      "source": [
        "translator_en_to_fr=pipeline(\"translation_en_to_fr\",model=\"Helsinki-NLP/opus-mt-en-fr\")\n"
      ],
      "metadata": {
        "id": "zBibS4HPMVyC"
      },
      "execution_count": null,
      "outputs": []
    },
    {
      "cell_type": "code",
      "source": [
        "translator_output=translator_en_to_fr(\"text\")\n",
        "print(\"Language Translation:\")\n",
        "print(f\"Input: {text}\")\n",
        "print(f\"Output: {translator_output}\")\n"
      ],
      "metadata": {
        "id": "NLE2rJg6M9vG"
      },
      "execution_count": null,
      "outputs": []
    }
  ]
}